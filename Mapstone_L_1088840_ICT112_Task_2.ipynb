{
 "cells": [
  {
   "cell_type": "code",
   "execution_count": null,
   "metadata": {},
   "outputs": [],
   "source": [
    "\"\"\"\n",
    "Road Fatalities in Australia \n",
    "\n",
    "Author:Lee Mapstone\n",
    "       1088840\n",
    "       \n",
    "       \n",
    "\"\"\""
   ]
  },
  {
   "cell_type": "code",
   "execution_count": null,
   "metadata": {},
   "outputs": [],
   "source": [
    "\"\"\"\n",
    "Introduction\n",
    "explains the structure of your web site, and the \n",
    "features / statistics / graphics that you have implemented; \n",
    "\n",
    "This is a python program that generates html pages and content using: \n",
    "    - templates\n",
    "    - external css files\n",
    "    - functions\n",
    "    - graphs\n",
    "\n",
    "\"\"\""
   ]
  },
  {
   "cell_type": "code",
   "execution_count": null,
   "metadata": {},
   "outputs": [],
   "source": [
    "\"\"\"\n",
    "Overview\n",
    "\n",
    "\"\"\""
   ]
  },
  {
   "cell_type": "code",
   "execution_count": null,
   "metadata": {},
   "outputs": [],
   "source": [
    "\"\"\"\n",
    "Code Sections should be separated\n",
    "\n",
    "\n",
    "\"\"\""
   ]
  },
  {
   "cell_type": "code",
   "execution_count": null,
   "metadata": {},
   "outputs": [],
   "source": []
  },
  {
   "cell_type": "code",
   "execution_count": 82,
   "metadata": {},
   "outputs": [],
   "source": [
    "page = \"\"\"\n",
    "<!DOCTYPE html>\n",
    "<html>\n",
    "    \n",
    "    <head>\n",
    "        <link rel=\"stylesheet\" href=\"css/main.css\">\n",
    "    </head>\n",
    "    <body>\n",
    "        <header>\n",
    "            <div class=\"container\">\n",
    "                <h1 class=\"logo\">Road Fatalities in Australia</h1>\n",
    "                <strong><nav>\n",
    "                    <ul class=\"menu\">\n",
    "                        <li><a href=\"index.html\">Home</a></li>\n",
    "                    </ul>\n",
    "                </nav></strong>\n",
    "            </div>\n",
    "        </header>\n",
    "        <div class=\"container\">\n",
    "            <img src=\"bobby-car.jpg\" alt=\"A photo of a toy car upside-down on the footpath\" width=\"1000\" height=\"474\">   \n",
    "            {heading}\n",
    "            <P>Photo Credit: hoffmann-tipsntrips, 2013</p>\n",
    "            {contents1}\n",
    "            {i_frame}\n",
    "            {contents2}\n",
    "            {contents3}\n",
    "\n",
    "            {link}\n",
    "        </div>\n",
    "    </body>\n",
    "</html>\n",
    "\"\"\""
   ]
  },
  {
   "cell_type": "code",
   "execution_count": null,
   "metadata": {},
   "outputs": [],
   "source": []
  },
  {
   "cell_type": "code",
   "execution_count": 83,
   "metadata": {},
   "outputs": [],
   "source": [
    "fat_list = \"\""
   ]
  },
  {
   "cell_type": "code",
   "execution_count": 84,
   "metadata": {},
   "outputs": [],
   "source": [
    "out = open(\"index.html\", \"w\")\n",
    "out.write(page.format(\n",
    "    heading = \"<h1>Road Fatalities in Australia</h1>\", \n",
    "    contents1 = \"<p>On this site you will find road fatality statistical data.</p>\", \n",
    "    i_frame = \"\",\n",
    "    contents2 = \"\", \n",
    "    contents3 = \"\", \n",
    "    link = '''<ul>\n",
    "        <li><a href=\"fatalities_per_year.html\">A Look at Death Rates Over the Years</a></li>\n",
    "        <li><a href=\"fatalities_per_state.html\">Which State has the Highest Fatality Rate?</a></li>\n",
    "        <li><a href=\"fatalities_per_day.html\">Which Day of the Week is Deadliest?</a></li>\n",
    "        <li><a href=\"fatalities_per_time.html\">Which Time of Day is the Deadliest?</a></li>\n",
    "        <li><a href=\"fatalities_trucks.html\">How Many Trucks are in Fatal Crashes</a></li>\n",
    "        <li><a href=\"fatalities_speed_zones.html\">Which Speed Zones are the Deadliest?</a></li>\n",
    "        <li><a href=\"fatalities_gender.html\">Does Your Gender Increase the Risk of Dying?</a></li>\n",
    "        <li><a href=\"fatalities_age.html\">Does Your Age Have Anything to do With Death-rates?</a></li>\n",
    "        <li><a href=\"fatalities_user.html\">Deaths per Road User Category</a></li>\n",
    "    </ul>'''))\n",
    "out.close()"
   ]
  },
  {
   "cell_type": "code",
   "execution_count": null,
   "metadata": {},
   "outputs": [],
   "source": []
  },
  {
   "cell_type": "code",
   "execution_count": 85,
   "metadata": {},
   "outputs": [
    {
     "data": {
      "image/png": "[encoded data removed]",
      "text/plain": [
       "<matplotlib.figure.Figure at 0x1a2b6bf32e8>"
      ]
     },
     "metadata": {},
     "output_type": "display_data"
    }
   ],
   "source": [
    "#  Fatalities per Year\n",
    "\n",
    "#  Global Lists\n",
    "year_list = []  #  A complete list of the years in coloumn[3]\n",
    "occ_list = []  #  A list of the occurence of a given number in the year_list\n",
    "\n",
    "#  Global imports\n",
    "import csv\n",
    "import matplotlib.pyplot as plt\n",
    "import mpld3\n",
    "\n",
    "\n",
    "with open(\"Fatalities_March_2018.csv\", \"r\") as data_file:\n",
    "    \"\"\"Use with function to open and close the file.  Read the data in the file and compile an integer list of the Year column\"\"\"\n",
    "    csv_data = csv.reader(data_file)\n",
    "#   Skip past the first line\n",
    "    next(csv_data)\n",
    "    for line in csv_data:\n",
    "        year_list.append(int(f\"{line[3]}\"))\n",
    "\n",
    "\n",
    "#  Take the full list of years, remove duplicates and order the list ascending\n",
    "years = list(dict.fromkeys(year_list))\n",
    "years_ord = sorted(years, key=int)\n",
    "#print(years_ord)\n",
    "\n",
    "for item in range(min(years_ord), max(years_ord)):\n",
    "    \"\"\"Count the occurance of each item in the list using the min and max value of years\"\"\"\n",
    "    occ_list.append(year_list.count(item))\n",
    "    \n",
    "\n",
    "#  Removing 2018 from the list as the data is incomplete\n",
    "x_list = years_ord\n",
    "x_list.remove(2018)\n",
    "#print(x_list)\n",
    "\n",
    "\n",
    "#  Converting the plot to HTML\n",
    "from matplotlib.pyplot import figure\n",
    "import mpld3\n",
    "\n",
    "fig = figure(figsize=(12, 9))\n",
    "ax = fig.gca()\n",
    "ax.plot(x_list, occ_list)\n",
    "ax.set_xlabel('Year')\n",
    "ax.set_ylabel('Fatalities')\n",
    "ax.set_title('Fatalities per Year from 1989 through 2017')\n",
    "mpld3.save_html(fig,'plot_fatalities_year.html', template_type='simple')\n",
    "#mpld3.show(fig)\n",
    "\n",
    "out = open(\"fatalities_per_year.html\", \"w\")\n",
    "out.write(page.format(\n",
    "    heading = \"<h1>A Look at Death Rates Over the Years</h1>\", \n",
    "    contents1 = \"<p>Fatal accidents have significantly decreased since 1989.  The plot below shows this trend.</p>\", \n",
    "    i_frame = \"<iframe src='plot_fatalities_year.html' title='iframe example 1' width='900' height='700'></iframe>\",\n",
    "    contents2 = \"<p>There are many factors that affect the outcome of a crash.  Factors would include such things as car manufacturer standards, road rules, alcohol, drugs, restraint systems and road surface condition amongst others.</p>\",\n",
    "    contents3 = \"<p>Ultimately, it is the responsibility of the road user to drive safely and respond effectively to hazards.</p>\",\n",
    "    link = '<a href=\"index.html\">Back home'))\n",
    "out.close()"
   ]
  },
  {
   "cell_type": "code",
   "execution_count": 77,
   "metadata": {},
   "outputs": [
    {
     "ename": "KeyError",
     "evalue": "'i_frame'",
     "output_type": "error",
     "traceback": [
      "\u001b[1;31m---------------------------------------------------------------------------\u001b[0m",
      "\u001b[1;31mKeyError\u001b[0m                                  Traceback (most recent call last)",
      "\u001b[1;32m<ipython-input-77-94f042f0836f>\u001b[0m in \u001b[0;36m<module>\u001b[1;34m()\u001b[0m\n\u001b[0;32m      5\u001b[0m     \u001b[0mcontents2\u001b[0m \u001b[1;33m=\u001b[0m \u001b[1;33m{\u001b[0m\u001b[0mfat_list\u001b[0m\u001b[1;33m}\u001b[0m\u001b[1;33m,\u001b[0m\u001b[1;33m\u001b[0m\u001b[0m\n\u001b[0;32m      6\u001b[0m     \u001b[0mcontents3\u001b[0m \u001b[1;33m=\u001b[0m \u001b[1;34m\"<p>...</p>\"\u001b[0m\u001b[1;33m,\u001b[0m\u001b[1;33m\u001b[0m\u001b[0m\n\u001b[1;32m----> 7\u001b[1;33m     link = '<a href=\"index.html\">Back home'))\n\u001b[0m\u001b[0;32m      8\u001b[0m \u001b[0mout\u001b[0m\u001b[1;33m.\u001b[0m\u001b[0mclose\u001b[0m\u001b[1;33m(\u001b[0m\u001b[1;33m)\u001b[0m\u001b[1;33m\u001b[0m\u001b[0m\n",
      "\u001b[1;31mKeyError\u001b[0m: 'i_frame'"
     ]
    }
   ],
   "source": [
    "out = open(\"fatalities_per_state.html\", \"w\")\n",
    "out.write(page.format(\n",
    "    heading = \"<h1>Which State has the Highest Fatality Rate?</h1>\", \n",
    "    contents1 = \"<p>...</p>\", \n",
    "    contents2 = {fat_list}, \n",
    "    contents3 = \"<p>...</p>\", \n",
    "    link = '<a href=\"index.html\">Back home'))\n",
    "out.close()"
   ]
  },
  {
   "cell_type": "code",
   "execution_count": 72,
   "metadata": {},
   "outputs": [
    {
     "ename": "KeyError",
     "evalue": "'i_frame'",
     "output_type": "error",
     "traceback": [
      "\u001b[1;31m---------------------------------------------------------------------------\u001b[0m",
      "\u001b[1;31mKeyError\u001b[0m                                  Traceback (most recent call last)",
      "\u001b[1;32m<ipython-input-72-097fe30a9432>\u001b[0m in \u001b[0;36m<module>\u001b[1;34m()\u001b[0m\n\u001b[0;32m      5\u001b[0m     \u001b[0mcontents2\u001b[0m \u001b[1;33m=\u001b[0m \u001b[1;33m{\u001b[0m\u001b[0mfat_list\u001b[0m\u001b[1;33m}\u001b[0m\u001b[1;33m,\u001b[0m\u001b[1;33m\u001b[0m\u001b[0m\n\u001b[0;32m      6\u001b[0m     \u001b[0mcontents3\u001b[0m \u001b[1;33m=\u001b[0m \u001b[1;34m\"<p>...</p>\"\u001b[0m\u001b[1;33m,\u001b[0m\u001b[1;33m\u001b[0m\u001b[0m\n\u001b[1;32m----> 7\u001b[1;33m     link = '<a href=\"index.html\">Back home'))\n\u001b[0m\u001b[0;32m      8\u001b[0m \u001b[0mout\u001b[0m\u001b[1;33m.\u001b[0m\u001b[0mclose\u001b[0m\u001b[1;33m(\u001b[0m\u001b[1;33m)\u001b[0m\u001b[1;33m\u001b[0m\u001b[0m\n",
      "\u001b[1;31mKeyError\u001b[0m: 'i_frame'"
     ]
    }
   ],
   "source": [
    "out = open(\"fatalities_per_day.html\", \"w\")\n",
    "out.write(page.format(\n",
    "    heading = \"<h1>Which Day of the Week is Deadliest?</h1>\", \n",
    "    contents1 = \"<p>...</p>\", \n",
    "    contents2 = {fat_list}, \n",
    "    contents3 = \"<p>...</p>\", \n",
    "    link = '<a href=\"index.html\">Back home'))\n",
    "out.close()"
   ]
  },
  {
   "cell_type": "code",
   "execution_count": null,
   "metadata": {},
   "outputs": [],
   "source": [
    "out = open(\"fatalities_per_time.html\", \"w\")\n",
    "out.write(page.format(\n",
    "    heading = \"<h1>Which Time of Day is the Deadliest?</h1>\", \n",
    "    contents1 = \"<p>...</p>\", \n",
    "    contents2 = {fat_list}, \n",
    "    contents3 = \"<p>...</p>\", \n",
    "    link = '<a href=\"index.html\">Back home'))\n",
    "out.close()"
   ]
  },
  {
   "cell_type": "code",
   "execution_count": null,
   "metadata": {},
   "outputs": [],
   "source": [
    "out = open(\"fatalities_trucks.html\", \"w\")\n",
    "out.write(page.format(\n",
    "    heading = \"<h1>How Many Trucks are in Fatal Crashes</h1>\", \n",
    "    contents1 = \"<p>...</p>\", \n",
    "    contents2 = {fat_list}, \n",
    "    contents3 = \"<p>...</p>\", \n",
    "    link = '<a href=\"index.html\">Back home'))\n",
    "out.close()"
   ]
  },
  {
   "cell_type": "code",
   "execution_count": null,
   "metadata": {},
   "outputs": [],
   "source": [
    "out = open(\"fatalities_speed_zones.html\", \"w\")\n",
    "out.write(page.format(\n",
    "    heading = \"<h1>Which Speed Zones are the Deadliest?</h1>\", \n",
    "    contents1 = \"<p>...</p>\", \n",
    "    contents2 = {fat_list}, \n",
    "    contents3 = \"<p>...</p>\", \n",
    "    link = '<a href=\"index.html\">Back home'))\n",
    "out.close()"
   ]
  },
  {
   "cell_type": "code",
   "execution_count": null,
   "metadata": {},
   "outputs": [],
   "source": [
    "out = open(\"fatalities_gender.html\", \"w\")\n",
    "out.write(page.format(\n",
    "    heading = \"<h1>Does Your Gender Increase the Risk of Dying?</h1>\", \n",
    "    contents1 = \"<p>This is a question you are all dying to know.  Because of my gender, am I more or less likely to die in a road accident?</p>\", \n",
    "    contents2 = \"<p>Let's have a look at the data.</p>\", \n",
    "    contents3 = \"<p>...</p>\", \n",
    "    link = '<a href=\"index.html\">Back home'))\n",
    "out.close()"
   ]
  },
  {
   "cell_type": "code",
   "execution_count": null,
   "metadata": {},
   "outputs": [],
   "source": [
    "out = open(\"fatalities_age.html\", \"w\")\n",
    "out.write(page.format(\n",
    "    heading = \"<h1>Does Your Age Have Anything to do With Death-rates?</h1>\", \n",
    "    contents1 = \"<p>...</p>\", \n",
    "    contents2 = {fat_list}, \n",
    "    contents3 = \"<p>...</p>\", \n",
    "    link = '<a href=\"index.html\">Back home'))\n",
    "out.close()"
   ]
  },
  {
   "cell_type": "code",
   "execution_count": null,
   "metadata": {},
   "outputs": [],
   "source": [
    "out = open(\"fatalities_user.html\", \"w\")\n",
    "out.write(page.format(\n",
    "    heading = \"<h1>A Look at Which Road Users Die More Often</h1>\", \n",
    "    contents1 = \"<p>We all know that riding a motorcycle can be dangerous.  However, is it more dangerous than walking?</p>\", \n",
    "    contents2 = {fat_list}, \n",
    "    contents3 = \"<p>...</p>\", \n",
    "    link = '<a href=\"index.html\">Back home'))\n",
    "out.close()"
   ]
  },
  {
   "cell_type": "code",
   "execution_count": null,
   "metadata": {},
   "outputs": [],
   "source": []
  },
  {
   "cell_type": "code",
   "execution_count": null,
   "metadata": {},
   "outputs": [],
   "source": []
  }
 ],
 "metadata": {
  "kernelspec": {
   "display_name": "Python 3",
   "language": "python",
   "name": "python3"
  },
  "language_info": {
   "codemirror_mode": {
    "name": "ipython",
    "version": 3
   },
   "file_extension": ".py",
   "mimetype": "text/x-python",
   "name": "python",
   "nbconvert_exporter": "python",
   "pygments_lexer": "ipython3",
   "version": "3.6.4"
  }
 },
 "nbformat": 4,
 "nbformat_minor": 2
}
